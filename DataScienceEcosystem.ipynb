{
 "cells": [
  {
   "cell_type": "markdown",
   "id": "e64abfb1",
   "metadata": {},
   "source": [
    "#Data Scsience Tools and Ecosystem"
   ]
  },
  {
   "cell_type": "markdown",
   "id": "87fc09e2",
   "metadata": {},
   "source": [
    "##In this notebook, Data Science Tools and Ecosystem are summarized. "
   ]
  },
  {
   "cell_type": "markdown",
   "id": "958185ab",
   "metadata": {},
   "source": [
    "###Some of the popular languages that Data Scientists use are: \n",
    "1.\tPython\n",
    "2.\tR\n",
    "3.\tSQL\n",
    "4.\tSCALA\n",
    "5.\tJAVA\n",
    "6.\tC++\n",
    "7.\tJulia"
   ]
  },
  {
   "cell_type": "markdown",
   "id": "5a332918",
   "metadata": {},
   "source": [
    "Some of the commonly used libraries used by Data Scientists include:\n",
    "1.\tScientific Computing Libraries in Python \n",
    "2.\tVisualization Libraries in Python \n",
    "3.\tHigh-Level- Machine Learning \n",
    "4.\tDeep Learning Libraries"
   ]
  },
  {
   "cell_type": "code",
   "execution_count": 5,
   "id": "6fdc9861",
   "metadata": {},
   "outputs": [
    {
     "data": {
      "text/html": [
       "<style>\n",
       "table {float:left;width:100%}\n",
       "th {float:center}\n",
       "tr {float:center}\n",
       "</style>\n"
      ],
      "text/plain": [
       "<IPython.core.display.HTML object>"
      ]
     },
     "metadata": {},
     "output_type": "display_data"
    }
   ],
   "source": [
    "%%html\n",
    "<style>\n",
    "table {float:left;width:100%}\n",
    "th {float:center}\n",
    "tr {float:center}\n",
    "</style>"
   ]
  },
  {
   "attachments": {},
   "cell_type": "markdown",
   "id": "eec8a411",
   "metadata": {},
   "source": [
    ":---:\n",
    "|Data Science Tools|\n",
    "|:---              |\n",
    "|Jupyter Notebooks |\n",
    "|RStudio           |\n",
    "|Apache            |\n",
    "|KNIME             |\n",
    "|Orange            |\n"
   ]
  },
  {
   "cell_type": "markdown",
   "id": "7e0ba437",
   "metadata": {},
   "source": [
    "###Below are a few examples of evaluating arithmetic expressions in Python"
   ]
  },
  {
   "cell_type": "code",
   "execution_count": 1,
   "id": "18885b26",
   "metadata": {
    "scrolled": true
   },
   "outputs": [
    {
     "name": "stdout",
     "output_type": "stream",
     "text": [
      "17\n"
     ]
    }
   ],
   "source": [
    "# This a simple arithmetic expression to mutiply then add integers\n",
    "ResultOperation = (3*4)+5\n",
    "print(ResultOperation)"
   ]
  },
  {
   "cell_type": "code",
   "execution_count": 2,
   "id": "6f42333f",
   "metadata": {},
   "outputs": [
    {
     "name": "stdout",
     "output_type": "stream",
     "text": [
      "200  minutes equals  3.3333333333333335  hours\n"
     ]
    }
   ],
   "source": [
    "### This will convert 200 minutes to hours by diving by 60\n",
    "Minutes = 200\n",
    "Hours = Minutes / 60\n",
    "print (Minutes,\" minutes equals \", Hours,\" hours\")"
   ]
  },
  {
   "cell_type": "markdown",
   "id": "eee3b104",
   "metadata": {},
   "source": [
    "### Objectives: \n",
    "•\tList popular languages for Data Science\n",
    "•\tList libraries used by Data Scientists\n",
    "•\tList Data Science Development Tools"
   ]
  },
  {
   "cell_type": "markdown",
   "id": "5bdcc5f9",
   "metadata": {},
   "source": [
    "## Author: Roxana Justiniano"
   ]
  }
 ],
 "metadata": {
  "kernelspec": {
   "display_name": "Python 3 (ipykernel)",
   "language": "python",
   "name": "python3"
  },
  "language_info": {
   "codemirror_mode": {
    "name": "ipython",
    "version": 3
   },
   "file_extension": ".py",
   "mimetype": "text/x-python",
   "name": "python",
   "nbconvert_exporter": "python",
   "pygments_lexer": "ipython3",
   "version": "3.11.5"
  }
 },
 "nbformat": 4,
 "nbformat_minor": 5
}
