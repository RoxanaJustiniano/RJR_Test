{
 "cells": [
  {
   "cell_type": "markdown",
   "id": "84fc0bb3",
   "metadata": {},
   "source": [
    "#Data Scsience Tools and Ecosystem"
   ]
  },
  {
   "cell_type": "markdown",
   "id": "c2091465",
   "metadata": {},
   "source": [
    "#In this notebook, Data Science Tools and Ecosystem are summarized. "
   ]
  },
  {
   "cell_type": "markdown",
   "id": "65a761b0",
   "metadata": {},
   "source": [
    "Some of the popular languages that Data Scientists use are: \n",
    "1 - Python\n",
    "2 - R\n",
    "3 - SQL\n",
    "4 - SCALA\n",
    "5 - JAVA\n",
    "6 - C++\n",
    "7 - Julia"
   ]
  },
  {
   "cell_type": "markdown",
   "id": "6f84d006",
   "metadata": {},
   "source": [
    "Some of the commonly used libraries used by Data Scientists include:\n",
    "1 - Scientific Computing Libraries in Python \n",
    "2 - Visualization Libraries in Python \n",
    "3 - High-Level- Machine Learning \n",
    "4 - Deep Learning Libraries"
   ]
  },
  {
   "attachments": {},
   "cell_type": "markdown",
   "id": "9377c9b4",
   "metadata": {},
   "source": [
    "###### Data Science Tools\n",
    "Jupyter Notebooks\n",
    "Rstudio\n",
    "Apache\n",
    "KNIME\n",
    "Orange"
   ]
  },
  {
   "cell_type": "markdown",
   "id": "da8b0094",
   "metadata": {},
   "source": [
    "Below are a few examples of evaluating arithmetic expressions in Python"
   ]
  },
  {
   "cell_type": "code",
   "execution_count": 1,
   "id": "d2833e99",
   "metadata": {
    "scrolled": true
   },
   "outputs": [
    {
     "name": "stdout",
     "output_type": "stream",
     "text": [
      "17\n"
     ]
    }
   ],
   "source": [
    "# This a simple arithmetic expression to mutiply then add integers\n",
    "ResultOperation = (3*4)+5\n",
    "print(ResultOperation)"
   ]
  },
  {
   "cell_type": "code",
   "execution_count": 2,
   "id": "1ebbd902",
   "metadata": {},
   "outputs": [
    {
     "name": "stdout",
     "output_type": "stream",
     "text": [
      "200  minutes equals  3.3333333333333335  hours\n"
     ]
    }
   ],
   "source": [
    "# This will convert 200 minutes to hours by diving by 60\n",
    "Minutes = 200\n",
    "Hours = Minutes / 60\n",
    "print (Minutes,\" minutes equals \", Hours,\" hours\")"
   ]
  },
  {
   "cell_type": "markdown",
   "id": "4b431940",
   "metadata": {},
   "source": [
    "###### Objectives: \n",
    "•\tList popular languages for Data Science\n",
    "•\tList libraries used by Data Scientists\n",
    "•\tList Data Science Development Tools"
   ]
  },
  {
   "cell_type": "markdown",
   "id": "8f8314af",
   "metadata": {},
   "source": [
    "## Author: Roxana Justiniano"
   ]
  }
 ],
 "metadata": {
  "kernelspec": {
   "display_name": "Python 3 (ipykernel)",
   "language": "python",
   "name": "python3"
  },
  "language_info": {
   "codemirror_mode": {
    "name": "ipython",
    "version": 3
   },
   "file_extension": ".py",
   "mimetype": "text/x-python",
   "name": "python",
   "nbconvert_exporter": "python",
   "pygments_lexer": "ipython3",
   "version": "3.11.5"
  }
 },
 "nbformat": 4,
 "nbformat_minor": 5
}
